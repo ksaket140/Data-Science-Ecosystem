{
 "cells": [
  {
   "cell_type": "markdown",
   "id": "96a746fc-e8bb-4bb5-8a21-f628a15905cb",
   "metadata": {
    "jp-MarkdownHeadingCollapsed": true
   },
   "source": [
    "# Exercise 2 - Execute it as a markdown cell\n",
    "#In this notebook, Data Science Tools and Ecosystem are summarized."
   ]
  },
  {
   "cell_type": "markdown",
   "id": "5c12cfed-bd9b-4973-952c-0b48a0fd411f",
   "metadata": {},
   "source": [
    "# Exercise 3 - Introduction\n",
    "In this notebook, Data Science Tools and Ecosystem are summarized.\n"
   ]
  },
  {
   "cell_type": "markdown",
   "id": "ff2805bc-de73-4c9e-8e0e-a09d2aa5c603",
   "metadata": {},
   "source": [
    "# Exercise 4 - Data Science Languages\n",
    "\n",
    "Some of the popular languages that Data Scientists use are:\n",
    "\n",
    "1. Python\n",
    "2. R\n",
    "3. SQL\n"
   ]
  },
  {
   "cell_type": "markdown",
   "id": "91d014e8-e98a-49e7-90f6-ddea75988ea7",
   "metadata": {},
   "source": [
    "# Exercise 5 - Data Science Libraries\n",
    "\n",
    "Some of the commonly used libraries used by Data Scientists include:\n",
    "1. NumPy\n",
    "2. Pandas\n",
    "3. Matplotlib\n",
    "\n"
   ]
  },
  {
   "cell_type": "markdown",
   "id": "febbb584-9ad1-4e57-9875-38741cc9a35f",
   "metadata": {},
   "source": [
    "# Exercise 6 - Data Science Tools\n",
    "\n",
    "| Data Science Tools          |\n",
    "|-----------------------------|\n",
    "| Jupyter Notebooks           |\n",
    "| RStudio                     |\n",
    "| Apache Zeppelin             |\n"
   ]
  },
  {
   "cell_type": "markdown",
   "id": "b1686f2d-db26-4b40-95a9-a99dc8cbf17d",
   "metadata": {},
   "source": [
    "### Exercise 7 - Arithmetic Expression Examples\n",
    "\n",
    "Below are a few examples of evaluating arithmetic expressions in Python.\n"
   ]
  },
  {
   "cell_type": "code",
   "execution_count": 27,
   "id": "0b7ccd96-3a7b-4a53-b79b-a88aa6f6b9f0",
   "metadata": {},
   "outputs": [
    {
     "data": {
      "text/plain": [
       "17"
      ]
     },
     "execution_count": 27,
     "metadata": {},
     "output_type": "execute_result"
    }
   ],
   "source": [
    "# This is a simple arithmetic expression to multiply then add integers\n",
    "(3 * 4) + 5\n"
   ]
  },
  {
   "cell_type": "code",
   "execution_count": 29,
   "id": "f6b2b071-97a6-4532-8f26-8cea2918f42a",
   "metadata": {},
   "outputs": [
    {
     "data": {
      "text/plain": [
       "3.3333333333333335"
      ]
     },
     "execution_count": 29,
     "metadata": {},
     "output_type": "execute_result"
    }
   ],
   "source": [
    "# This will convert 200 minutes to hours by dividing by 60\n",
    "200 / 60"
   ]
  },
  {
   "cell_type": "markdown",
   "id": "d9f9300c-2162-42b4-a3a7-d2eeb6738169",
   "metadata": {},
   "source": [
    "**Objectives:**\n",
    "\n",
    "- List popular languages for Data Science\n",
    "- Identify commonly used libraries in Data Science\n",
    "- Provide examples of arithmetic operations in Python\n",
    "- Convert minutes to hours using Python\n",
    "- Summarize Data Science tools and ecosystems\n"
   ]
  },
  {
   "cell_type": "code",
   "execution_count": null,
   "id": "de56edc7-d07c-432a-a85a-bd592521022d",
   "metadata": {},
   "outputs": [],
   "source": []
  }
 ],
 "metadata": {
  "kernelspec": {
   "display_name": "Python 3 (ipykernel)",
   "language": "python",
   "name": "python3"
  },
  "language_info": {
   "codemirror_mode": {
    "name": "ipython",
    "version": 3
   },
   "file_extension": ".py",
   "mimetype": "text/x-python",
   "name": "python",
   "nbconvert_exporter": "python",
   "pygments_lexer": "ipython3",
   "version": "3.12.4"
  }
 },
 "nbformat": 4,
 "nbformat_minor": 5
}
